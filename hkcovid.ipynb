{
 "cells": [
  {
   "cell_type": "markdown",
   "id": "c10cb555-d1dd-4c3b-b909-007840d3ee03",
   "metadata": {},
   "source": [
    "### HK Covid SIR Model Notebook"
   ]
  },
  {
   "cell_type": "code",
   "execution_count": 1,
   "id": "6a659506-f163-456c-b6d9-0db137f7854d",
   "metadata": {},
   "outputs": [],
   "source": [
    "import sys\n",
    "#!conda install --yes --prefix {sys.prefix} lxml"
   ]
  },
  {
   "cell_type": "code",
   "execution_count": 2,
   "id": "770291e7-b880-452c-b636-d42d957bbb54",
   "metadata": {},
   "outputs": [],
   "source": [
    "#import lxml\n",
    "from datetime import datetime\n",
    "from scipy.optimize import curve_fit\n",
    "from scipy.signal import convolve\n",
    "import numpy as np\n",
    "import pandas as pd\n",
    "import matplotlib.colors as mcolors\n",
    "import json\n",
    "import requests\n",
    "from babel.dates import format_date, format_datetime, format_time"
   ]
  },
  {
   "cell_type": "code",
   "execution_count": 3,
   "id": "e6384f65-8df6-4694-a26b-963aa1644ce3",
   "metadata": {},
   "outputs": [],
   "source": [
    "import reff_plots_common"
   ]
  },
  {
   "cell_type": "code",
   "execution_count": 4,
   "id": "5fd386bd-d83a-48fb-923e-95eb1a70f8a8",
   "metadata": {},
   "outputs": [],
   "source": [
    "def print_estimation():\n",
    "    import sys\n",
    "    import json\n",
    "    from datetime import datetime, timedelta\n",
    "    from pathlib import Path\n",
    "    from textwrap import dedent\n",
    "\n",
    "    import numpy as np\n",
    "    # import praw\n",
    "\n",
    "    stats = json.loads(Path(\"latest_hkg_stats.json\").read_text())\n",
    "\n",
    "    proj_lines = [\n",
    "            \"   day  cases  68% range\",\n",
    "            \"-------------------------\",\n",
    "    ]\n",
    "    for proj in stats['projection'][1:8]:\n",
    "            presser_date = datetime.fromisoformat(proj['date']) + timedelta(1)\n",
    "            cases = proj['cases']\n",
    "            lower = proj['lower']\n",
    "            upper = proj['upper']\n",
    "            weekday = format_datetime(presser_date, \"E\", locale=\"zh_HK.UTF-8\") + presser_date.strftime(\"%a:\") \n",
    "            cases_str = f\"{cases:.0f}\".rjust(5)\n",
    "            range_str = f\"{lower:.0f}—{upper:.0f}\".rjust(10)\n",
    "            proj_lines.append(\" \".join([weekday, cases_str, range_str]))\n",
    "\n",
    "\n",
    "    proj_lines = \"\\n\".join(proj_lines)\n",
    "\n",
    "    doubling_time = 5 * np.log(2) / np.log(stats['R_eff'])\n",
    "\n",
    "    doubling_or_halving = \"Doubling\" if doubling_time > 0 else \"Halving\"\n",
    "    print('Cases in the HKG if the current trend continues:\\n')\n",
    "    print(proj_lines + '\\n')\n",
    "    print(f'{doubling_or_halving} time {doubling_time:.2f} days')"
   ]
  },
  {
   "cell_type": "code",
   "execution_count": 5,
   "id": "ce700733-1f71-4ce4-b96c-0c150c7d2594",
   "metadata": {},
   "outputs": [
    {
     "name": "stdout",
     "output_type": "stream",
     "text": [
      "/home/jovyan/work/reff_plots_common.py:324: RuntimeWarning: overflow encountered in exp\n",
      "  return A * np.exp(k * x + 1 / 2 * dk_dt * x ** 2)\n",
      "/home/jovyan/work/reff_plots_common.py:324: RuntimeWarning: overflow encountered in multiply\n",
      "  return A * np.exp(k * x + 1 / 2 * dk_dt * x ** 2)\n",
      "R_eff: (3.5813763356975348, (3.012822778398315, 4.291211388395597))\n",
      "Font 'default' does not have a glyph for '\\u6709' [U+6709], substituting with a dummy symbol.\n",
      "Font 'default' does not have a glyph for '\\u6548' [U+6548], substituting with a dummy symbol.\n",
      "Font 'default' does not have a glyph for '\\u50b3' [U+50b3], substituting with a dummy symbol.\n",
      "Font 'default' does not have a glyph for '\\u67d3' [U+67d3], substituting with a dummy symbol.\n",
      "Font 'default' does not have a glyph for '\\u6578' [U+6578], substituting with a dummy symbol.\n",
      "Font 'default' does not have a glyph for '\\u9999' [U+9999], substituting with a dummy symbol.\n",
      "Font 'default' does not have a glyph for '\\u6e2f' [U+6e2f], substituting with a dummy symbol.\n",
      "Font 'default' does not have a glyph for '\\u51a0' [U+51a0], substituting with a dummy symbol.\n",
      "Font 'default' does not have a glyph for '\\u72c0' [U+72c0], substituting with a dummy symbol.\n",
      "Font 'default' does not have a glyph for '\\u75c5' [U+75c5], substituting with a dummy symbol.\n",
      "Font 'default' does not have a glyph for '\\u6bd2' [U+6bd2], substituting with a dummy symbol.\n",
      "Font 'default' does not have a glyph for '\\u7684' [U+7684], substituting with a dummy symbol.\n",
      "Font 'default' does not have a glyph for '\\u6709' [U+6709], substituting with a dummy symbol.\n",
      "Font 'default' does not have a glyph for '\\u6548' [U+6548], substituting with a dummy symbol.\n",
      "Font 'default' does not have a glyph for '\\u50b3' [U+50b3], substituting with a dummy symbol.\n",
      "Font 'default' does not have a glyph for '\\u67d3' [U+67d3], substituting with a dummy symbol.\n",
      "Font 'default' does not have a glyph for '\\u6578' [U+6578], substituting with a dummy symbol.\n",
      "Font 'default' does not have a glyph for '\\u6700' [U+6700], substituting with a dummy symbol.\n",
      "Font 'default' does not have a glyph for '\\u65b0' [U+65b0], substituting with a dummy symbol.\n",
      "Font 'default' does not have a glyph for '\\u4f30' [U+4f30], substituting with a dummy symbol.\n",
      "Font 'default' does not have a glyph for '\\u8a08' [U+8a08], substituting with a dummy symbol.\n",
      "/home/jovyan/work/hkg.py:453: UserWarning: Glyph 27599 (\\N{CJK UNIFIED IDEOGRAPH-6BCF}) missing from current font.\n",
      "  fig1.tight_layout(pad=1.8)\n",
      "/home/jovyan/work/hkg.py:453: UserWarning: Glyph 26085 (\\N{CJK UNIFIED IDEOGRAPH-65E5}) missing from current font.\n",
      "  fig1.tight_layout(pad=1.8)\n",
      "/home/jovyan/work/hkg.py:453: UserWarning: Glyph 20491 (\\N{CJK UNIFIED IDEOGRAPH-500B}) missing from current font.\n",
      "  fig1.tight_layout(pad=1.8)\n",
      "/home/jovyan/work/hkg.py:453: UserWarning: Glyph 26696 (\\N{CJK UNIFIED IDEOGRAPH-6848}) missing from current font.\n",
      "  fig1.tight_layout(pad=1.8)\n",
      "/home/jovyan/work/hkg.py:453: UserWarning: Glyph 23565 (\\N{CJK UNIFIED IDEOGRAPH-5C0D}) missing from current font.\n",
      "  fig1.tight_layout(pad=1.8)\n",
      "/home/jovyan/work/hkg.py:453: UserWarning: Glyph 25976 (\\N{CJK UNIFIED IDEOGRAPH-6578}) missing from current font.\n",
      "  fig1.tight_layout(pad=1.8)\n",
      "/home/jovyan/work/hkg.py:453: UserWarning: Glyph 21051 (\\N{CJK UNIFIED IDEOGRAPH-523B}) missing from current font.\n",
      "  fig1.tight_layout(pad=1.8)\n",
      "/home/jovyan/work/hkg.py:453: UserWarning: Glyph 24230 (\\N{CJK UNIFIED IDEOGRAPH-5EA6}) missing from current font.\n",
      "  fig1.tight_layout(pad=1.8)\n",
      "/home/jovyan/work/reff_plots_common.py:324: RuntimeWarning: overflow encountered in exp\n",
      "  return A * np.exp(k * x + 1 / 2 * dk_dt * x ** 2)\n",
      "/home/jovyan/work/reff_plots_common.py:324: RuntimeWarning: overflow encountered in multiply\n",
      "  return A * np.exp(k * x + 1 / 2 * dk_dt * x ** 2)\n",
      "R_eff: (3.5813763356975348, (3.012822778398315, 4.291211388395597))\n",
      "Font 'default' does not have a glyph for '\\u6709' [U+6709], substituting with a dummy symbol.\n",
      "Font 'default' does not have a glyph for '\\u6548' [U+6548], substituting with a dummy symbol.\n",
      "Font 'default' does not have a glyph for '\\u50b3' [U+50b3], substituting with a dummy symbol.\n",
      "Font 'default' does not have a glyph for '\\u67d3' [U+67d3], substituting with a dummy symbol.\n",
      "Font 'default' does not have a glyph for '\\u6578' [U+6578], substituting with a dummy symbol.\n",
      "/home/jovyan/work/hkg.py:453: UserWarning: Glyph 39321 (\\N{CJK UNIFIED IDEOGRAPH-9999}) missing from current font.\n",
      "  fig1.tight_layout(pad=1.8)\n",
      "/home/jovyan/work/hkg.py:453: UserWarning: Glyph 28207 (\\N{CJK UNIFIED IDEOGRAPH-6E2F}) missing from current font.\n",
      "  fig1.tight_layout(pad=1.8)\n",
      "/home/jovyan/work/hkg.py:453: UserWarning: Glyph 20896 (\\N{CJK UNIFIED IDEOGRAPH-51A0}) missing from current font.\n",
      "  fig1.tight_layout(pad=1.8)\n",
      "/home/jovyan/work/hkg.py:453: UserWarning: Glyph 29376 (\\N{CJK UNIFIED IDEOGRAPH-72C0}) missing from current font.\n",
      "  fig1.tight_layout(pad=1.8)\n",
      "/home/jovyan/work/hkg.py:453: UserWarning: Glyph 30149 (\\N{CJK UNIFIED IDEOGRAPH-75C5}) missing from current font.\n",
      "  fig1.tight_layout(pad=1.8)\n",
      "/home/jovyan/work/hkg.py:453: UserWarning: Glyph 27602 (\\N{CJK UNIFIED IDEOGRAPH-6BD2}) missing from current font.\n",
      "  fig1.tight_layout(pad=1.8)\n",
      "/home/jovyan/work/hkg.py:453: UserWarning: Glyph 25976 (\\N{CJK UNIFIED IDEOGRAPH-6578}) missing from current font.\n",
      "  fig1.tight_layout(pad=1.8)\n",
      "/home/jovyan/work/hkg.py:453: UserWarning: Glyph 23416 (\\N{CJK UNIFIED IDEOGRAPH-5B78}) missing from current font.\n",
      "  fig1.tight_layout(pad=1.8)\n",
      "/home/jovyan/work/hkg.py:453: UserWarning: Glyph 27169 (\\N{CJK UNIFIED IDEOGRAPH-6A21}) missing from current font.\n",
      "  fig1.tight_layout(pad=1.8)\n",
      "/home/jovyan/work/hkg.py:453: UserWarning: Glyph 22411 (\\N{CJK UNIFIED IDEOGRAPH-578B}) missing from current font.\n",
      "  fig1.tight_layout(pad=1.8)\n",
      "/home/jovyan/work/hkg.py:453: UserWarning: Glyph 25512 (\\N{CJK UNIFIED IDEOGRAPH-63A8}) missing from current font.\n",
      "  fig1.tight_layout(pad=1.8)\n",
      "/home/jovyan/work/hkg.py:453: UserWarning: Glyph 31639 (\\N{CJK UNIFIED IDEOGRAPH-7B97}) missing from current font.\n",
      "  fig1.tight_layout(pad=1.8)\n",
      "Font 'default' does not have a glyph for '\\u958b' [U+958b], substituting with a dummy symbol.\n",
      "Font 'default' does not have a glyph for '\\u59cb' [U+59cb], substituting with a dummy symbol.\n",
      "/home/jovyan/work/hkg.py:453: UserWarning: Glyph 27599 (\\N{CJK UNIFIED IDEOGRAPH-6BCF}) missing from current font.\n",
      "  fig1.tight_layout(pad=1.8)\n",
      "/home/jovyan/work/hkg.py:453: UserWarning: Glyph 26085 (\\N{CJK UNIFIED IDEOGRAPH-65E5}) missing from current font.\n",
      "  fig1.tight_layout(pad=1.8)\n",
      "/home/jovyan/work/hkg.py:453: UserWarning: Glyph 20491 (\\N{CJK UNIFIED IDEOGRAPH-500B}) missing from current font.\n",
      "  fig1.tight_layout(pad=1.8)\n",
      "/home/jovyan/work/hkg.py:453: UserWarning: Glyph 26696 (\\N{CJK UNIFIED IDEOGRAPH-6848}) missing from current font.\n",
      "  fig1.tight_layout(pad=1.8)\n",
      "/home/jovyan/work/hkg.py:453: UserWarning: Glyph 23565 (\\N{CJK UNIFIED IDEOGRAPH-5C0D}) missing from current font.\n",
      "  fig1.tight_layout(pad=1.8)\n",
      "/home/jovyan/work/hkg.py:453: UserWarning: Glyph 21051 (\\N{CJK UNIFIED IDEOGRAPH-523B}) missing from current font.\n",
      "  fig1.tight_layout(pad=1.8)\n",
      "/home/jovyan/work/hkg.py:453: UserWarning: Glyph 24230 (\\N{CJK UNIFIED IDEOGRAPH-5EA6}) missing from current font.\n",
      "  fig1.tight_layout(pad=1.8)\n",
      "637 467—820\n",
      "792 573—1031\n",
      "983 701—1291\n",
      "1218 851—1627\n",
      "1511 1034—2040\n",
      "1868 1250—2571\n",
      "2306 1510—3231\n",
      "2842 1816—4055\n"
     ]
    }
   ],
   "source": [
    "!/home/jovyan/work/hkg.sh"
   ]
  },
  {
   "cell_type": "code",
   "execution_count": 6,
   "id": "9e3a95c5-65d4-4675-8e6c-1ef031a03be7",
   "metadata": {},
   "outputs": [
    {
     "name": "stdout",
     "output_type": "stream",
     "text": [
      "Cases in the HKG if the current trend continues:\n",
      "\n",
      "   day  cases  68% range\n",
      "-------------------------\n",
      "週三Wed:   792   573—1031\n",
      "週四Thu:   983   701—1291\n",
      "週五Fri:  1218   851—1627\n",
      "週六Sat:  1511  1034—2040\n",
      "週日Sun:  1868  1250—2571\n",
      "週一Mon:  2306  1510—3231\n",
      "週二Tue:  2842  1816—4055\n",
      "\n",
      "Doubling time 2.76 days\n"
     ]
    }
   ],
   "source": [
    "print_estimation()"
   ]
  },
  {
   "cell_type": "code",
   "execution_count": null,
   "id": "5285e14f-be00-4dc7-b718-d4ff37f9d85b",
   "metadata": {},
   "outputs": [],
   "source": []
  }
 ],
 "metadata": {
  "kernelspec": {
   "display_name": "Python 3 (ipykernel)",
   "language": "python",
   "name": "python3"
  },
  "language_info": {
   "codemirror_mode": {
    "name": "ipython",
    "version": 3
   },
   "file_extension": ".py",
   "mimetype": "text/x-python",
   "name": "python",
   "nbconvert_exporter": "python",
   "pygments_lexer": "ipython3",
   "version": "3.9.7"
  }
 },
 "nbformat": 4,
 "nbformat_minor": 5
}
