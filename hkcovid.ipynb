{
 "cells": [
  {
   "cell_type": "raw",
   "id": "a8ca1fb5-5883-47d4-846d-c937121b163e",
   "metadata": {},
   "source": [
    "HK Covid SIR Model Notebook"
   ]
  },
  {
   "cell_type": "code",
   "execution_count": 197,
   "id": "6a659506-f163-456c-b6d9-0db137f7854d",
   "metadata": {},
   "outputs": [],
   "source": [
    "import sys\n",
    "#!conda install --yes --prefix {sys.prefix} lxml"
   ]
  },
  {
   "cell_type": "code",
   "execution_count": 198,
   "id": "770291e7-b880-452c-b636-d42d957bbb54",
   "metadata": {},
   "outputs": [],
   "source": [
    "import lxml\n",
    "from datetime import datetime\n",
    "from scipy.optimize import curve_fit\n",
    "from scipy.signal import convolve\n",
    "import numpy as np\n",
    "import pandas as pd\n",
    "import matplotlib.colors as mcolors\n",
    "import json\n",
    "import requests"
   ]
  },
  {
   "cell_type": "code",
   "execution_count": 199,
   "id": "e6384f65-8df6-4694-a26b-963aa1644ce3",
   "metadata": {},
   "outputs": [],
   "source": [
    "import reff_plots_common"
   ]
  },
  {
   "cell_type": "code",
   "execution_count": 200,
   "id": "ce700733-1f71-4ce4-b96c-0c150c7d2594",
   "metadata": {},
   "outputs": [
    {
     "name": "stdout",
     "output_type": "stream",
     "text": [
      "/home/jovyan/work/reff_plots_common.py:315: RuntimeWarning: overflow encountered in exp\n",
      "  return A * np.exp(k * x + 1 / 2 * dk_dt * x ** 2)\n",
      "/home/jovyan/work/reff_plots_common.py:315: RuntimeWarning: overflow encountered in multiply\n",
      "  return A * np.exp(k * x + 1 / 2 * dk_dt * x ** 2)\n",
      "R_eff: (1.684092624138324, (1.3503371625481695, 2.1896947175674906))\n",
      "Figure(1000x600)\n",
      "/home/jovyan/work/reff_plots_common.py:315: RuntimeWarning: overflow encountered in exp\n",
      "  return A * np.exp(k * x + 1 / 2 * dk_dt * x ** 2)\n",
      "/home/jovyan/work/reff_plots_common.py:315: RuntimeWarning: overflow encountered in multiply\n",
      "  return A * np.exp(k * x + 1 / 2 * dk_dt * x ** 2)\n",
      "R_eff: (1.684092624138324, (1.3503371625481695, 2.1896947175674906))\n",
      "/home/jovyan/work/reff_plots_common.py:257: RuntimeWarning: invalid value encountered in log\n",
      "  R_eff = 1 + np.log(R_eff)\n",
      "196 97—312\n",
      "214 93—357\n",
      "234 90—410\n",
      "255 84—470\n",
      "278 80—540\n",
      "303 78—622\n",
      "328 74—714\n",
      "354 69—818\n",
      "Figure(1000x600)\n"
     ]
    }
   ],
   "source": [
    "!python /home/jovyan/work/hkg.py\n",
    "!python /home/jovyan/work/hkg.py vax"
   ]
  },
  {
   "cell_type": "code",
   "execution_count": 208,
   "id": "5fd386bd-d83a-48fb-923e-95eb1a70f8a8",
   "metadata": {},
   "outputs": [],
   "source": [
    "def print_estimation():\n",
    "    import sys\n",
    "    import json\n",
    "    from datetime import datetime, timedelta\n",
    "    from pathlib import Path\n",
    "    from textwrap import dedent\n",
    "\n",
    "    import numpy as np\n",
    "    # import praw\n",
    "\n",
    "    stats = json.loads(Path(\"latest_hkg_stats.json\").read_text())\n",
    "\n",
    "    proj_lines = [\n",
    "            \"day  cases  68% range\",\n",
    "            \"---------------------\",\n",
    "    ]\n",
    "    for proj in stats['projection'][1:8]:\n",
    "            presser_date = datetime.fromisoformat(proj['date']) + timedelta(1)\n",
    "            cases = proj['cases']\n",
    "            lower = proj['lower']\n",
    "            upper = proj['upper']\n",
    "            weekday = presser_date.strftime(\"%a:\")\n",
    "            cases_str = f\"{cases:.0f}\".rjust(5)\n",
    "            range_str = f\"{lower:.0f}—{upper:.0f}\".rjust(10)\n",
    "            proj_lines.append(\" \".join([weekday, cases_str, range_str]))\n",
    "\n",
    "\n",
    "    proj_lines = \"\\n\".join(proj_lines)\n",
    "\n",
    "    doubling_time = 5 * np.log(2) / np.log(stats['R_eff'])\n",
    "    \n",
    "    print(proj_lines + '\\n')\n",
    "    print(f'Doubling time {doubling_time:.2f} days')"
   ]
  },
  {
   "cell_type": "code",
   "execution_count": 209,
   "id": "9e3a95c5-65d4-4675-8e6c-1ef031a03be7",
   "metadata": {},
   "outputs": [
    {
     "name": "stdout",
     "output_type": "stream",
     "text": [
      "day  cases  68% range\n",
      "---------------------\n",
      "Sun:   214     93—357\n",
      "Mon:   234     90—410\n",
      "Tue:   255     84—470\n",
      "Wed:   278     80—540\n",
      "Thu:   303     78—622\n",
      "Fri:   328     74—714\n",
      "Sat:   354     69—818\n",
      "\n",
      "Doubling time 6.87 days\n"
     ]
    }
   ],
   "source": [
    "print_estimation()"
   ]
  },
  {
   "cell_type": "code",
   "execution_count": null,
   "id": "fb0c3b7f-b8ad-4ab1-b23c-cf07ba6baf00",
   "metadata": {},
   "outputs": [],
   "source": []
  }
 ],
 "metadata": {
  "kernelspec": {
   "display_name": "Python 3 (ipykernel)",
   "language": "python",
   "name": "python3"
  },
  "language_info": {
   "codemirror_mode": {
    "name": "ipython",
    "version": 3
   },
   "file_extension": ".py",
   "mimetype": "text/x-python",
   "name": "python",
   "nbconvert_exporter": "python",
   "pygments_lexer": "ipython3",
   "version": "3.9.7"
  }
 },
 "nbformat": 4,
 "nbformat_minor": 5
}
